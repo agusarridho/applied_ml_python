{
 "cells": [
  {
   "cell_type": "markdown",
   "metadata": {
    "collapsed": true
   },
   "source": [
    "# K-Means Clustering"
   ]
  },
  {
   "cell_type": "markdown",
   "metadata": {},
   "source": [
    "## Prepare Data"
   ]
  },
  {
   "cell_type": "code",
   "execution_count": 20,
   "metadata": {
    "collapsed": true
   },
   "outputs": [],
   "source": [
    "import numpy as np\n",
    "\n",
    "points = np.load(\"data/points.npy\")\n",
    "new_points = np.load(\"data/new_points.npy\")\n",
    "seeds = np.loadtxt(\"data/seeds.txt\")\n",
    "fish = "
   ]
  },
  {
   "cell_type": "markdown",
   "metadata": {},
   "source": [
    "## Clustering 2D points\n",
    "\n",
    "You'll create a KMeans model to find 3 clusters, and fit it to the data points from the previous exercise. After the model has been fit, you'll obtain the cluster labels for some new points using the .predict() method.\n",
    "\n",
    "You are given an array points of size 300x2, where each row gives the (x, y) co-ordinates of a point on a map.  and also an array new_points."
   ]
  },
  {
   "cell_type": "code",
   "execution_count": null,
   "metadata": {
    "collapsed": true
   },
   "outputs": [],
   "source": [
    "# Import KMeans\n",
    "from sklearn.cluster import KMeans\n",
    "\n",
    "# Create a KMeans instance with 3 clusters: model\n",
    "model = KMeans(n_clusters = 3)\n",
    "\n",
    "# Fit model to points\n",
    "model.fit(points)\n",
    "\n",
    "# Determine the cluster labels of new_points: labels\n",
    "labels = model.predict(new_points)\n",
    "\n",
    "# Print cluster labels of new_points\n",
    "print(labels)"
   ]
  },
  {
   "cell_type": "markdown",
   "metadata": {},
   "source": [
    "## Inspect your clustering\n",
    "Let's now inspect the clustering you performed in the previous exercise!\n",
    "\n",
    "A solution to the previous exercise has already run, so new_points is an array of points and labels is the array of their cluster labels."
   ]
  },
  {
   "cell_type": "code",
   "execution_count": null,
   "metadata": {
    "collapsed": true
   },
   "outputs": [],
   "source": [
    "# Import pyplot\n",
    "import matplotlib.pyplot as plt\n",
    "\n",
    "# Assign the columns of new_points: xs and ys\n",
    "xs = new_points[:,0]\n",
    "ys = new_points[:,1]\n",
    "\n",
    "# Make a scatter plot of xs and ys, using labels to define the colors\n",
    "plt.scatter(xs,ys, c=labels, alpha=0.5)\n",
    "\n",
    "# Assign the cluster centers: centroids\n",
    "centroids = model.cluster_centers_\n",
    "\n",
    "# Assign the columns of centroids: centroids_x, centroids_y\n",
    "centroids_x = centroids[:,0]\n",
    "centroids_y = centroids[:,1]\n",
    "\n",
    "# Make a scatter plot of centroids_x and centroids_y\n",
    "plt.scatter(centroids_x, centroids_y, marker='D', s=50)\n",
    "plt.show()"
   ]
  },
  {
   "cell_type": "markdown",
   "metadata": {},
   "source": [
    "## How many clusters of grain?\n",
    "In the video, you learnt how to choose a good number of clusters for a dataset using the k-means inertia graph. You are given an array samples containing the measurements (such as area, perimeter, length, and several others) of samples of grain. What's a good number of clusters in this case?\n",
    "\n",
    "KMeans and PyPlot (plt) have already been imported for you."
   ]
  },
  {
   "cell_type": "code",
   "execution_count": null,
   "metadata": {
    "collapsed": true
   },
   "outputs": [],
   "source": [
    "ks = range(1, 6)\n",
    "inertias = []\n",
    "\n",
    "for k in ks:\n",
    "    # Create a KMeans instance with k clusters: model\n",
    "    model = KMeans(n_clusters=k)\n",
    "    \n",
    "    # Fit model to samples\n",
    "    model.fit(samples)\n",
    "    \n",
    "    # Append the inertia to the list of inertias\n",
    "    inertias.append(model.inertia_)\n",
    "    \n",
    "# Plot ks vs inertias\n",
    "plt.plot(ks, inertias, '-o')\n",
    "plt.xlabel('number of clusters, k')\n",
    "plt.ylabel('inertia')\n",
    "plt.xticks(ks)\n",
    "plt.show()"
   ]
  },
  {
   "cell_type": "markdown",
   "metadata": {},
   "source": [
    "## Evaluating the grain clustering\n",
    "In the previous exercise, you observed from the inertia plot that 3 is a good number of clusters for the grain data. In fact, the grain samples come from a mix of 3 different grain varieties: \"Kama\", \"Rosa\" and \"Canadian\". In this exercise, cluster the grain samples into three clusters, and compare the clusters to the grain varieties using a cross-tabulation.\n",
    "\n",
    "You have the array samples of grain samples, and a list varieties giving the grain variety for each sample. Pandas (pd) and KMeans have already been imported for you."
   ]
  },
  {
   "cell_type": "code",
   "execution_count": null,
   "metadata": {
    "collapsed": true
   },
   "outputs": [],
   "source": [
    "# Create a KMeans model with 3 clusters: model\n",
    "model = KMeans(n_clusters=3)\n",
    "\n",
    "# Use fit_predict to fit model and obtain cluster labels: labels\n",
    "labels = model.fit_predict(samples)\n",
    "\n",
    "# Create a DataFrame with labels and varieties as columns: df\n",
    "df = pd.DataFrame({'labels': labels, 'varieties': varieties})\n",
    "\n",
    "# Create crosstab: ct\n",
    "ct = pd.crosstab(df['labels'],df['varieties'])\n",
    "\n",
    "# Display ct\n",
    "print(ct)"
   ]
  },
  {
   "cell_type": "markdown",
   "metadata": {},
   "source": [
    "## Scaling fish data for clustering\n",
    "You are given an array samples giving measurements of fish. Each row represents an individual fish. The measurements, such as weight in grams, length in centimeters, and the percentage ratio of height to length, have very different scales. In order to cluster this data effectively, you'll need to standardize these features first. In this exercise, you'll build a pipeline to standardize and cluster the data."
   ]
  },
  {
   "cell_type": "code",
   "execution_count": null,
   "metadata": {
    "collapsed": true
   },
   "outputs": [],
   "source": [
    "# Perform the necessary imports\n",
    "from sklearn.pipeline import make_pipeline\n",
    "from sklearn.preprocessing import StandardScaler\n",
    "from sklearn.cluster import KMeans\n",
    "\n",
    "# Create scaler: scaler\n",
    "scaler = StandardScaler()\n",
    "\n",
    "# Create KMeans instance: kmeans\n",
    "kmeans = KMeans(n_clusters=4)\n",
    "\n",
    "# Create pipeline: pipeline\n",
    "pipeline = make_pipeline(scaler,kmeans)"
   ]
  },
  {
   "cell_type": "markdown",
   "metadata": {},
   "source": [
    "## Clustering the fish data\n",
    "You'll now use your standardization and clustering pipeline from the previous exercise to cluster the fish by their measurements, and then create a cross-tabulation to compare the cluster labels with the fish species.\n",
    "\n",
    "As before, samples is the 2D array of fish measurements. Your pipeline is available as pipeline, and the species of every fish sample is given by the list species."
   ]
  },
  {
   "cell_type": "code",
   "execution_count": null,
   "metadata": {
    "collapsed": true
   },
   "outputs": [],
   "source": [
    "# Import pandas\n",
    "import pandas as pd\n",
    "\n",
    "# Fit the pipeline to samples\n",
    "pipeline.fit(samples)\n",
    "\n",
    "# Calculate the cluster labels: labels\n",
    "labels = pipeline.predict(samples)\n",
    "\n",
    "# Create a DataFrame with labels and species as columns: df\n",
    "df = pd.DataFrame({'labels': labels, 'species': species})\n",
    "\n",
    "# Create crosstab: ct\n",
    "ct = pd.crosstab(df['labels'],df['species'])\n",
    "\n",
    "# Display ct\n",
    "print(ct)"
   ]
  },
  {
   "cell_type": "markdown",
   "metadata": {},
   "source": [
    "## Clustering stocks using KMeans\n",
    "In this exercise, you'll cluster companies using their daily stock price movements (i.e. the dollar difference between the closing and opening prices for each trading day). You are given a NumPy array movements of daily price movements from 2010 to 2015, where each row corresponds to a company, and each column corresponds to a trading day.\n",
    "\n",
    "Some stocks are more expensive than others. To account for this, include a Normalizer at the beginning of your pipeline. The Normalizer will separately transform each company's stock price to a relative scale before the clustering begins.\n",
    "\n",
    "Note that Normalizer() is different to StandardScaler(), which you used in the previous exercise. While StandardScaler() standardizes features (such as the features of the fish data from the previous exercise) by removing the mean and scaling to unit variance, Normalizer() rescales each sample - here, each company's stock price - independently of the other.\n",
    "\n",
    "KMeans and make_pipeline have already been imported for you."
   ]
  },
  {
   "cell_type": "code",
   "execution_count": null,
   "metadata": {
    "collapsed": true
   },
   "outputs": [],
   "source": [
    "# Import Normalizer\n",
    "from sklearn.preprocessing import Normalizer\n",
    "\n",
    "# Create a normalizer: normalizer\n",
    "normalizer = Normalizer()\n",
    "\n",
    "# Create a KMeans model with 10 clusters: kmeans\n",
    "kmeans = KMeans(n_clusters=10)\n",
    "\n",
    "# Make a pipeline chaining normalizer and kmeans: pipeline\n",
    "pipeline = make_pipeline(normalizer,kmeans)\n",
    "\n",
    "# Fit pipeline to the daily price movements\n",
    "pipeline.fit(movements)"
   ]
  },
  {
   "cell_type": "markdown",
   "metadata": {},
   "source": [
    "## Which stocks move together?\n",
    "In the previous exercise, you clustered companies by their daily stock price movements. So which company have stock prices that tend to change in the same way? You'll now inspect the cluster labels from your clustering to find out.\n",
    "\n",
    "Your solution to the previous exercise has already been run. Recall that you constructed a Pipeline pipeline containing a KMeans model and fit it to the NumPy array movements of daily stock movements. In addition, a list companies of the company names is available."
   ]
  },
  {
   "cell_type": "code",
   "execution_count": null,
   "metadata": {
    "collapsed": true
   },
   "outputs": [],
   "source": [
    "# Import pandas\n",
    "import pandas as pd\n",
    "\n",
    "# Predict the cluster labels: labels\n",
    "labels = pipeline.predict(movements)\n",
    "\n",
    "# Create a DataFrame aligning labels and companies: df\n",
    "df = pd.DataFrame({'labels': labels, 'companies': companies})\n",
    "\n",
    "# Display df sorted by cluster label\n",
    "print(df.sort_values('labels'))"
   ]
  },
  {
   "cell_type": "code",
   "execution_count": 21,
   "metadata": {
    "collapsed": true
   },
   "outputs": [],
   "source": [
    "fish = np.array([[  242. ,    23.2,    25.4,    30. ,    38.4,    13.4],\n",
    "       [  290. ,    24. ,    26.3,    31.2,    40. ,    13.8],\n",
    "       [  340. ,    23.9,    26.5,    31.1,    39.8,    15.1],\n",
    "       [  363. ,    26.3,    29. ,    33.5,    38. ,    13.3],\n",
    "       [  430. ,    26.5,    29. ,    34. ,    36.6,    15.1],\n",
    "       [  450. ,    26.8,    29.7,    34.7,    39.2,    14.2],\n",
    "       [  500. ,    26.8,    29.7,    34.5,    41.1,    15.3],\n",
    "       [  390. ,    27.6,    30. ,    35. ,    36.2,    13.4],\n",
    "       [  450. ,    27.6,    30. ,    35.1,    39.9,    13.8],\n",
    "       [  500. ,    28.5,    30.7,    36.2,    39.3,    13.7],\n",
    "       [  475. ,    28.4,    31. ,    36.2,    39.4,    14.1],\n",
    "       [  500. ,    28.7,    31. ,    36.2,    39.7,    13.3],\n",
    "       [  500. ,    29.1,    31.5,    36.4,    37.8,    12. ],\n",
    "       [  600. ,    29.4,    32. ,    37.2,    40.2,    13.9],\n",
    "       [  600. ,    29.4,    32. ,    37.2,    41.5,    15. ],\n",
    "       [  700. ,    30.4,    33. ,    38.3,    38.8,    13.8],\n",
    "       [  700. ,    30.4,    33. ,    38.5,    38.8,    13.5],\n",
    "       [  610. ,    30.9,    33.5,    38.6,    40.5,    13.3],\n",
    "       [  650. ,    31. ,    33.5,    38.7,    37.4,    14.8],\n",
    "       [  575. ,    31.3,    34. ,    39.5,    38.3,    14.1],\n",
    "       [  685. ,    31.4,    34. ,    39.2,    40.8,    13.7],\n",
    "       [  620. ,    31.5,    34.5,    39.7,    39.1,    13.3],\n",
    "       [  680. ,    31.8,    35. ,    40.6,    38.1,    15.1],\n",
    "       [  700. ,    31.9,    35. ,    40.5,    40.1,    13.8],\n",
    "       [  725. ,    31.8,    35. ,    40.9,    40. ,    14.8],\n",
    "       [  720. ,    32. ,    35. ,    40.6,    40.3,    15. ],\n",
    "       [  714. ,    32.7,    36. ,    41.5,    39.8,    14.1],\n",
    "       [  850. ,    32.8,    36. ,    41.6,    40.6,    14.9],\n",
    "       [ 1000. ,    33.5,    37. ,    42.6,    44.5,    15.5],\n",
    "       [  920. ,    35. ,    38.5,    44.1,    40.9,    14.3],\n",
    "       [  955. ,    35. ,    38.5,    44. ,    41.1,    14.3],\n",
    "       [  925. ,    36.2,    39.5,    45.3,    41.4,    14.9],\n",
    "       [  975. ,    37.4,    41. ,    45.9,    40.6,    14.7],\n",
    "       [  950. ,    38. ,    41. ,    46.5,    37.9,    13.7],\n",
    "       [   40. ,    12.9,    14.1,    16.2,    25.6,    14. ],\n",
    "       [   69. ,    16.5,    18.2,    20.3,    26.1,    13.9],\n",
    "       [   78. ,    17.5,    18.8,    21.2,    26.3,    13.7],\n",
    "       [   87. ,    18.2,    19.8,    22.2,    25.3,    14.3],\n",
    "       [  120. ,    18.6,    20. ,    22.2,    28. ,    16.1],\n",
    "       [    0. ,    19. ,    20.5,    22.8,    28.4,    14.7],\n",
    "       [  110. ,    19.1,    20.8,    23.1,    26.7,    14.7],\n",
    "       [  120. ,    19.4,    21. ,    23.7,    25.8,    13.9],\n",
    "       [  150. ,    20.4,    22. ,    24.7,    23.5,    15.2],\n",
    "       [  145. ,    20.5,    22. ,    24.3,    27.3,    14.6],\n",
    "       [  160. ,    20.5,    22.5,    25.3,    27.8,    15.1],\n",
    "       [  140. ,    21. ,    22.5,    25. ,    26.2,    13.3],\n",
    "       [  160. ,    21.1,    22.5,    25. ,    25.6,    15.2],\n",
    "       [  169. ,    22. ,    24. ,    27.2,    27.7,    14.1],\n",
    "       [  161. ,    22. ,    23.4,    26.7,    25.9,    13.6],\n",
    "       [  200. ,    22.1,    23.5,    26.8,    27.6,    15.4],\n",
    "       [  180. ,    23.6,    25.2,    27.9,    25.4,    14. ],\n",
    "       [  290. ,    24. ,    26. ,    29.2,    30.4,    15.4],\n",
    "       [  272. ,    25. ,    27. ,    30.6,    28. ,    15.6],\n",
    "       [  390. ,    29.5,    31.7,    35. ,    27.1,    15.3],\n",
    "       [    6.7,     9.3,     9.8,    10.8,    16.1,     9.7],\n",
    "       [    7.5,    10. ,    10.5,    11.6,    17. ,    10. ],\n",
    "       [    7. ,    10.1,    10.6,    11.6,    14.9,     9.9],\n",
    "       [    9.7,    10.4,    11. ,    12. ,    18.3,    11.5],\n",
    "       [    9.8,    10.7,    11.2,    12.4,    16.8,    10.3],\n",
    "       [    8.7,    10.8,    11.3,    12.6,    15.7,    10.2],\n",
    "       [   10. ,    11.3,    11.8,    13.1,    16.9,     9.8],\n",
    "       [    9.9,    11.3,    11.8,    13.1,    16.9,     8.9],\n",
    "       [    9.8,    11.4,    12. ,    13.2,    16.7,     8.7],\n",
    "       [   12.2,    11.5,    12.2,    13.4,    15.6,    10.4],\n",
    "       [   13.4,    11.7,    12.4,    13.5,    18. ,     9.4],\n",
    "       [   12.2,    12.1,    13. ,    13.8,    16.5,     9.1],\n",
    "       [   19.7,    13.2,    14.3,    15.2,    18.9,    13.6],\n",
    "       [   19.9,    13.8,    15. ,    16.2,    18.1,    11.6],\n",
    "       [  200. ,    30. ,    32.3,    34.8,    16. ,     9.7],\n",
    "       [  300. ,    31.7,    34. ,    37.8,    15.1,    11. ],\n",
    "       [  300. ,    32.7,    35. ,    38.8,    15.3,    11.3],\n",
    "       [  300. ,    34.8,    37.3,    39.8,    15.8,    10.1],\n",
    "       [  430. ,    35.5,    38. ,    40.5,    18. ,    11.3],\n",
    "       [  345. ,    36. ,    38.5,    41. ,    15.6,     9.7],\n",
    "       [  456. ,    40. ,    42.5,    45.5,    16. ,     9.5],\n",
    "       [  510. ,    40. ,    42.5,    45.5,    15. ,     9.8],\n",
    "       [  540. ,    40.1,    43. ,    45.8,    17. ,    11.2],\n",
    "       [  500. ,    42. ,    45. ,    48. ,    14.5,    10.2],\n",
    "       [  567. ,    43.2,    46. ,    48.7,    16. ,    10. ],\n",
    "       [  770. ,    44.8,    48. ,    51.2,    15. ,    10.5],\n",
    "       [  950. ,    48.3,    51.7,    55.1,    16.2,    11.2],\n",
    "       [ 1250. ,    52. ,    56. ,    59.7,    17.9,    11.7],\n",
    "       [ 1600. ,    56. ,    60. ,    64. ,    15. ,     9.6],\n",
    "       [ 1550. ,    56. ,    60. ,    64. ,    15. ,     9.6],\n",
    "       [ 1650. ,    59. ,    63.4,    68. ,    15.9,    11. ]])"
   ]
  },
  {
   "cell_type": "code",
   "execution_count": 22,
   "metadata": {
    "collapsed": true
   },
   "outputs": [],
   "source": [
    "np.save(\"fish.npy\",fish)"
   ]
  }
 ],
 "metadata": {
  "kernelspec": {
   "display_name": "Python 3",
   "language": "python",
   "name": "python3"
  },
  "language_info": {
   "codemirror_mode": {
    "name": "ipython",
    "version": 3
   },
   "file_extension": ".py",
   "mimetype": "text/x-python",
   "name": "python",
   "nbconvert_exporter": "python",
   "pygments_lexer": "ipython3",
   "version": "3.5.2"
  }
 },
 "nbformat": 4,
 "nbformat_minor": 1
}
